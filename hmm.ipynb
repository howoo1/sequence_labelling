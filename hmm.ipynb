{
 "cells": [
  {
   "cell_type": "markdown",
   "source": [
    "* A = state transition probabilities\n",
    "* B = observation probability matrix\n",
    "* N = number of states in the model\n",
    "* M = number of observation symbols\n",
    "* T = length of the observation sequence"
   ],
   "metadata": {
    "collapsed": false
   }
  },
  {
   "cell_type": "markdown",
   "source": [
    "ref : [hmm forward and backward](https://www.programmerall.com/article/1357868031/)"
   ],
   "metadata": {
    "collapsed": false
   }
  },
  {
   "cell_type": "code",
   "execution_count": null,
   "outputs": [],
   "source": [
    "import numpy as np"
   ],
   "metadata": {
    "collapsed": false
   }
  },
  {
   "cell_type": "markdown",
   "source": [
    "#### HMM forward algorithm\n",
    "given hmm model $\\lambda = (A, B, \\pi)$\n",
    "return forward prob $\\alpha_t(i)$ and observation sequence prob $P(O|\\lambda)$"
   ],
   "metadata": {
    "collapsed": false
   }
  },
  {
   "cell_type": "code",
   "execution_count": 21,
   "outputs": [
    {
     "name": "stdout",
     "output_type": "stream",
     "text": [
      "0.021077899999999997\n",
      "0.046266379999999996\n",
      "0.06009079999999999\n",
      "0.06009079999999999 [[0.1        0.077      0.04187    0.0210779 ]\n",
      " [0.16       0.1104     0.035512   0.02518848]\n",
      " [0.28       0.0606     0.052836   0.01382442]]\n"
     ]
    }
   ],
   "source": [
    "def hmm_forward(A, B, pi, O):\n",
    "    # define\n",
    "    T = len(O)\n",
    "    N = len(A[0])\n",
    "    alpha = np.zeros((N, T))\n",
    "    # 1. initialisation: calculate the first col of alpha\n",
    "    for i in range(N):\n",
    "        alpha[i][0] = pi[i]*B[i][O[0]]\n",
    "\n",
    "    # 2. iteration\n",
    "    for t in range(1, T):\n",
    "        for i in range(N):\n",
    "            a = 0\n",
    "            for j in range(N):\n",
    "                a += alpha[j][t-1]*A[j][i]\n",
    "            alpha[i][t] = a*B[i][O[t]]\n",
    "\n",
    "    # 3. observation sequence prob\n",
    "    proba = 0\n",
    "    for i in range(N):\n",
    "        proba += alpha[i][-1]\n",
    "        print(proba)\n",
    "    return proba,alpha\n",
    "\n",
    "\n",
    "A = [[0.5,0.2,0.3],[0.3,0.5,0.2],[0.2,0.3,0.5]]\n",
    "B = [[0.5,0.5],[0.4,0.6],[0.7,0.3]]\n",
    "pi = [0.2,0.4,0.4]\n",
    "O = [0,1,0,1]\n",
    "\n",
    "p, a = hmm_forward(A,B,pi,O)\n",
    "print(p, a)"
   ],
   "metadata": {
    "collapsed": false
   }
  },
  {
   "cell_type": "markdown",
   "source": [
    "#### HMM backward algorithm\n",
    "given hmm model $\\lambda = (A, B, \\pi)$\n",
    "return forward prob $\\beta_t(i)$ and observation sequence prob $P(O|\\lambda)$"
   ],
   "metadata": {
    "collapsed": false
   }
  },
  {
   "cell_type": "code",
   "execution_count": 35,
   "outputs": [
    {
     "name": "stdout",
     "output_type": "stream",
     "text": [
      "0.06009079999999999 [[0.112462 0.2461   0.46     1.      ]\n",
      " [0.121737 0.2312   0.51     1.      ]\n",
      " [0.104881 0.2577   0.43     1.      ]]\n"
     ]
    }
   ],
   "source": [
    "def hmm_backward(A, B, pi, O):\n",
    "    # define\n",
    "    T = len(O)\n",
    "    N = len(A[0])\n",
    "    beta = np.zeros((N, T))\n",
    "\n",
    "    # 1. initialisation: calculate the first col of alpha\n",
    "    for i in range(N):\n",
    "        beta[i][-1] = 1\n",
    "\n",
    "\n",
    "    # backward iteration\n",
    "    for t in reversed(range(T-1)):\n",
    "        for i in range(N):\n",
    "            for j in range(N):\n",
    "                beta[i][t] += A[i][j] * B[j][O[t+1]] * beta[j][t+1]\n",
    "\n",
    "    # 3. observation sequence prob\n",
    "    proba = 0\n",
    "    for i in range(N):\n",
    "        proba += pi[i]*B[i][O[0]]*beta[i][0]\n",
    "\n",
    "    return proba,beta\n",
    "\n",
    "A = [[0.5,0.2,0.3],[0.3,0.5,0.2],[0.2,0.3,0.5]]\n",
    "B = [[0.5,0.5],[0.4,0.6],[0.7,0.3]]\n",
    "pi = [0.2,0.4,0.4]\n",
    "O = [0,1,0,1]\n",
    "\n",
    "p, b = hmm_backward(A,B,pi,O)\n",
    "print(p, b)"
   ],
   "metadata": {
    "collapsed": false
   }
  },
  {
   "cell_type": "markdown",
   "source": [
    "#### Baum-Welch algorithm (EM algorithm)\n",
    "given {$(O_1, I_1)$, $(O_2, I_2)$, ... $(O_s, I_s)$} observation and its corresponding status sequence\n",
    "return estimated HMM parameters"
   ],
   "metadata": {
    "collapsed": false
   }
  },
  {
   "cell_type": "code",
   "execution_count": null,
   "outputs": [],
   "source": [],
   "metadata": {
    "collapsed": false
   }
  }
 ],
 "metadata": {
  "kernelspec": {
   "display_name": "Python 3",
   "language": "python",
   "name": "python3"
  },
  "language_info": {
   "codemirror_mode": {
    "name": "ipython",
    "version": 2
   },
   "file_extension": ".py",
   "mimetype": "text/x-python",
   "name": "python",
   "nbconvert_exporter": "python",
   "pygments_lexer": "ipython2",
   "version": "2.7.6"
  }
 },
 "nbformat": 4,
 "nbformat_minor": 0
}
